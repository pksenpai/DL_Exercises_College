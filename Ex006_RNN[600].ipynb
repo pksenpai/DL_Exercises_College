{
  "cells": [
    {
      "cell_type": "code",
      "execution_count": 1,
      "metadata": {
        "id": "0FXiqgqr_ohV"
      },
      "outputs": [],
      "source": [
        "import numpy as np\n",
        "from keras.datasets import imdb\n",
        "from keras.models import Sequential\n",
        "from keras.layers import Embedding, SimpleRNN, Dense\n",
        "from keras.preprocessing.sequence import pad_sequences\n"
      ]
    },
    {
      "cell_type": "code",
      "execution_count": 2,
      "metadata": {
        "id": "PN7Yy8hE_pcR"
      },
      "outputs": [],
      "source": [
        "# Load the IMDB dataset\n",
        "max_features = 10000  # Vocabulary size\n",
        "maxlen = 500  # Max sequence length for each sample\n"
      ]
    },
    {
      "cell_type": "code",
      "execution_count": 3,
      "metadata": {
        "colab": {
          "base_uri": "https://localhost:8080/"
        },
        "id": "Gcvtt1cA_qOr",
        "outputId": "d9695209-87c2-464b-ed55-083d986bc997"
      },
      "outputs": [
        {
          "name": "stdout",
          "output_type": "stream",
          "text": [
            "Downloading data from https://storage.googleapis.com/tensorflow/tf-keras-datasets/imdb.npz\n",
            "17464789/17464789 [==============================] - 0s 0us/step\n"
          ]
        }
      ],
      "source": [
        "(x_train, y_train), (x_test, y_test) = imdb.load_data(num_words=max_features)\n"
      ]
    },
    {
      "cell_type": "code",
      "execution_count": 4,
      "metadata": {
        "id": "ifZz_4hu_rVA"
      },
      "outputs": [],
      "source": [
        "# Pad sequences to ensure uniform input size\n",
        "x_train = pad_sequences(x_train, maxlen=maxlen)\n",
        "x_test = pad_sequences(x_test, maxlen=maxlen)\n"
      ]
    },
    {
      "cell_type": "code",
      "execution_count": 5,
      "metadata": {
        "id": "sYEsNYzM_sNc"
      },
      "outputs": [],
      "source": [
        "# Build the RNN model\n",
        "model = Sequential()\n",
        "model.add(Embedding(max_features, 32, input_length=maxlen))\n",
        "model.add(SimpleRNN(32))\n",
        "model.add(Dense(1, activation='sigmoid'))\n",
        "\n",
        "# Compile the model\n",
        "model.compile(optimizer='adam', loss='binary_crossentropy', metrics=['accuracy'])"
      ]
    },
    {
      "cell_type": "code",
      "execution_count": 6,
      "metadata": {
        "colab": {
          "base_uri": "https://localhost:8080/"
        },
        "id": "014GKyl1_vnv",
        "outputId": "2ba40f77-3cf4-4333-f358-bd143f9186b9"
      },
      "outputs": [
        {
          "name": "stdout",
          "output_type": "stream",
          "text": [
            "Epoch 1/5\n",
            "625/625 [==============================] - 74s 116ms/step - loss: 0.6234 - accuracy: 0.6317 - val_loss: 0.4847 - val_accuracy: 0.7760\n",
            "Epoch 2/5\n",
            "625/625 [==============================] - 74s 118ms/step - loss: 0.4433 - accuracy: 0.7993 - val_loss: 0.5794 - val_accuracy: 0.7374\n",
            "Epoch 3/5\n",
            "625/625 [==============================] - 63s 102ms/step - loss: 0.3088 - accuracy: 0.8758 - val_loss: 0.5058 - val_accuracy: 0.7830\n",
            "Epoch 4/5\n",
            "625/625 [==============================] - 68s 109ms/step - loss: 0.1943 - accuracy: 0.9306 - val_loss: 0.6108 - val_accuracy: 0.7666\n",
            "Epoch 5/5\n",
            "625/625 [==============================] - 67s 107ms/step - loss: 0.0639 - accuracy: 0.9808 - val_loss: 0.7769 - val_accuracy: 0.7424\n"
          ]
        },
        {
          "data": {
            "text/plain": [
              "<keras.src.callbacks.History at 0x79b46f39e3e0>"
            ]
          },
          "execution_count": 6,
          "metadata": {},
          "output_type": "execute_result"
        }
      ],
      "source": [
        "# Train the model\n",
        "model.fit(x_train, y_train, epochs=5, batch_size=32, validation_split=0.2)\n"
      ]
    },
    {
      "cell_type": "code",
      "execution_count": 7,
      "metadata": {
        "colab": {
          "base_uri": "https://localhost:8080/"
        },
        "id": "GgFjrf-w_igv",
        "outputId": "47056940-6ba9-46ec-c8ea-14b5902a152b"
      },
      "outputs": [
        {
          "name": "stdout",
          "output_type": "stream",
          "text": [
            "782/782 [==============================] - 18s 23ms/step - loss: 0.7721 - accuracy: 0.7463\n",
            "Test Accuracy: 0.7463200092315674\n"
          ]
        }
      ],
      "source": [
        "# Evaluate the model\n",
        "test_loss, test_acc = model.evaluate(x_test, y_test)\n",
        "print(f'Test Accuracy: {test_acc}')"
      ]
    },
    {
      "cell_type": "markdown",
      "metadata": {},
      "source": [
        "## THNAK YOU --- \\\\(^o^)/"
      ]
    }
  ],
  "metadata": {
    "accelerator": "TPU",
    "colab": {
      "gpuType": "V28",
      "provenance": []
    },
    "kernelspec": {
      "display_name": "Python 3",
      "name": "python3"
    },
    "language_info": {
      "name": "python"
    }
  },
  "nbformat": 4,
  "nbformat_minor": 0
}
