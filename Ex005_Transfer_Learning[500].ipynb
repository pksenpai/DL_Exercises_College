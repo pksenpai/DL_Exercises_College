{
  "cells": [
    {
      "cell_type": "code",
      "execution_count": null,
      "metadata": {
        "colab": {
          "base_uri": "https://localhost:8080/"
        },
        "id": "HB8tz-TidwBR",
        "outputId": "bde97de5-6a83-47e8-bd98-c6f104d3ec49"
      },
      "outputs": [
        {
          "name": "stdout",
          "output_type": "stream",
          "text": [
            "Mounted at /content/drive\n"
          ]
        }
      ],
      "source": [
        "from google.colab import drive\n",
        "drive.mount('/content/drive',force_remount=True)"
      ]
    },
    {
      "cell_type": "code",
      "execution_count": null,
      "metadata": {
        "id": "78YKuq_lcGSn"
      },
      "outputs": [],
      "source": [
        "import tensorflow as tf\n",
        "from tensorflow.keras.datasets import cifar10\n",
        "from tensorflow.keras.applications import VGG16\n",
        "from tensorflow.keras.models import Sequential\n",
        "from tensorflow.keras.layers import Flatten, Dense\n",
        "from tensorflow.keras.optimizers import Adam\n",
        "from tensorflow.keras.utils import to_categorical\n",
        "from tensorflow.keras.preprocessing.image import ImageDataGenerator\n",
        "from tensorflow.keras.callbacks import EarlyStopping\n",
        "\n",
        "import matplotlib.pyplot as plt\n",
        "import numpy as np"
      ]
    },
    {
      "cell_type": "code",
      "execution_count": null,
      "metadata": {
        "colab": {
          "base_uri": "https://localhost:8080/"
        },
        "id": "rN2nvq_lcHip",
        "outputId": "98a82628-b319-4e50-eef2-f39480320b88"
      },
      "outputs": [
        {
          "name": "stdout",
          "output_type": "stream",
          "text": [
            "Downloading data from https://www.cs.toronto.edu/~kriz/cifar-10-python.tar.gz\n",
            "170498071/170498071 [==============================] - 2s 0us/step\n"
          ]
        }
      ],
      "source": [
        "\"\"\" Load CIFAR-10 dataset \"\"\"\n",
        "(train_images, train_labels), (test_images, test_labels) = cifar10.load_data()"
      ]
    },
    {
      "cell_type": "code",
      "execution_count": null,
      "metadata": {
        "id": "j-2XmnspcHgv"
      },
      "outputs": [],
      "source": [
        "\"\"\" Normalize pixel values \"\"\"\n",
        "train_images = train_images / 255.0\n",
        "test_images = test_images / 255.0"
      ]
    },
    {
      "cell_type": "code",
      "execution_count": null,
      "metadata": {
        "id": "ULg1G0rpcHeO"
      },
      "outputs": [],
      "source": [
        "\"\"\" Convert labels to one-hot encoding \"\"\"\n",
        "train_labels = to_categorical(train_labels, num_classes=10)\n",
        "test_labels = to_categorical(test_labels, num_classes=10)"
      ]
    },
    {
      "cell_type": "code",
      "execution_count": null,
      "metadata": {
        "colab": {
          "base_uri": "https://localhost:8080/"
        },
        "id": "RKpSna9EcHcD",
        "outputId": "16278a75-3c80-4ef3-8b65-1555030a4407"
      },
      "outputs": [
        {
          "name": "stdout",
          "output_type": "stream",
          "text": [
            "Downloading data from https://storage.googleapis.com/tensorflow/keras-applications/vgg16/vgg16_weights_tf_dim_ordering_tf_kernels_notop.h5\n",
            "58889256/58889256 [==============================] - 0s 0us/step\n"
          ]
        }
      ],
      "source": [
        "\"\"\" Load the pre-trained VGG16 model without the top layers \"\"\"\n",
        "base_model = VGG16(weights='imagenet', include_top=False, input_shape=(32, 32, 3))\n",
        "\n",
        "\"\"\" Freeze the pre-trained layers \"\"\"\n",
        "for layer in base_model.layers:\n",
        "    layer.trainable = False\n"
      ]
    },
    {
      "cell_type": "code",
      "execution_count": null,
      "metadata": {
        "colab": {
          "base_uri": "https://localhost:8080/"
        },
        "id": "bXLh4rJjdXP8",
        "outputId": "41fe473f-4d02-46e6-ab9d-8b4002c514a7"
      },
      "outputs": [
        {
          "name": "stdout",
          "output_type": "stream",
          "text": [
            "(60000, 32, 32, 3) | (60000, 10)\n"
          ]
        }
      ],
      "source": [
        "\"\"\" Data augmentation \"\"\"\n",
        "datagen = ImageDataGenerator(\n",
        "    rotation_range=15,\n",
        "    width_shift_range=0.1,\n",
        "    height_shift_range=0.1,\n",
        "    horizontal_flip=True\n",
        ")\n",
        "\n",
        "num = 10000\n",
        "\n",
        "augmented_data = []\n",
        "augmented_labels = []\n",
        "\n",
        "for x_batch, y_batch in datagen.flow(train_images, train_labels, batch_size=num):\n",
        "    augmented_data.extend(x_batch)\n",
        "    augmented_labels.extend(y_batch)\n",
        "    if len(augmented_data) >= num:\n",
        "        break\n",
        "\n",
        "x_train_concat = np.concatenate((train_images, augmented_data[:len(train_images)]))\n",
        "y_train_concat = np.concatenate((train_labels, augmented_labels[:len(train_labels)]))\n",
        "\n",
        "shuffle_idx = np.random.permutation(len(x_train_concat))\n",
        "x_train_concat = x_train_concat[shuffle_idx]\n",
        "y_train_concat = y_train_concat[shuffle_idx]\n",
        "\n",
        "print(x_train_concat.shape, '|', y_train_concat.shape)"
      ]
    },
    {
      "cell_type": "code",
      "execution_count": null,
      "metadata": {
        "id": "WTeiJvVYcy5d"
      },
      "outputs": [],
      "source": [
        "\"\"\" Add custom top layers for CIFAR-10 classification \"\"\"\n",
        "model = Sequential([\n",
        "    base_model,\n",
        "    Flatten(),\n",
        "    Dense(256, activation='relu'),\n",
        "    Dense(10, activation='softmax')\n",
        "])\n",
        "\n",
        "\"\"\" Compile the model \"\"\"\n",
        "model.compile(optimizer=Adam(), loss='categorical_crossentropy', metrics=['accuracy'])"
      ]
    },
    {
      "cell_type": "code",
      "execution_count": null,
      "metadata": {
        "id": "-0Ked33jdhHB"
      },
      "outputs": [],
      "source": [
        "\"\"\" Early stopping callback \"\"\"\n",
        "early_stopping = EarlyStopping(monitor='val_loss', patience=5, restore_best_weights=True)"
      ]
    },
    {
      "cell_type": "code",
      "execution_count": null,
      "metadata": {
        "colab": {
          "base_uri": "https://localhost:8080/"
        },
        "id": "dd3e7S-Kc5q2",
        "outputId": "13e54f28-eec7-403d-e3fd-21cce1315666"
      },
      "outputs": [
        {
          "name": "stdout",
          "output_type": "stream",
          "text": [
            "Epoch 1/15\n",
            "750/750 [==============================] - 55s 72ms/step - loss: 1.3894 - accuracy: 0.5157 - val_loss: 1.2563 - val_accuracy: 0.5617\n",
            "Epoch 2/15\n",
            "750/750 [==============================] - 54s 72ms/step - loss: 1.2007 - accuracy: 0.5818 - val_loss: 1.1987 - val_accuracy: 0.5807\n",
            "Epoch 3/15\n",
            "750/750 [==============================] - 54s 72ms/step - loss: 1.1411 - accuracy: 0.6004 - val_loss: 1.1728 - val_accuracy: 0.5929\n",
            "Epoch 4/15\n",
            "750/750 [==============================] - 54s 73ms/step - loss: 1.0927 - accuracy: 0.6168 - val_loss: 1.1346 - val_accuracy: 0.6008\n",
            "Epoch 5/15\n",
            "750/750 [==============================] - 54s 72ms/step - loss: 1.0537 - accuracy: 0.6304 - val_loss: 1.1223 - val_accuracy: 0.6072\n",
            "Epoch 6/15\n",
            "750/750 [==============================] - 53s 71ms/step - loss: 1.0164 - accuracy: 0.6459 - val_loss: 1.1240 - val_accuracy: 0.6081\n",
            "Epoch 7/15\n",
            "750/750 [==============================] - 53s 71ms/step - loss: 0.9824 - accuracy: 0.6563 - val_loss: 1.1070 - val_accuracy: 0.6111\n",
            "Epoch 8/15\n",
            "750/750 [==============================] - 54s 72ms/step - loss: 0.9502 - accuracy: 0.6685 - val_loss: 1.0908 - val_accuracy: 0.6214\n",
            "Epoch 9/15\n",
            "750/750 [==============================] - 54s 72ms/step - loss: 0.9176 - accuracy: 0.6794 - val_loss: 1.0933 - val_accuracy: 0.6206\n",
            "Epoch 10/15\n",
            "750/750 [==============================] - 53s 71ms/step - loss: 0.8950 - accuracy: 0.6848 - val_loss: 1.0925 - val_accuracy: 0.6186\n",
            "Epoch 11/15\n",
            "750/750 [==============================] - 54s 72ms/step - loss: 0.8635 - accuracy: 0.6986 - val_loss: 1.0909 - val_accuracy: 0.6224\n",
            "Epoch 12/15\n",
            "750/750 [==============================] - 54s 71ms/step - loss: 0.8386 - accuracy: 0.7069 - val_loss: 1.1169 - val_accuracy: 0.6118\n",
            "Epoch 13/15\n",
            "750/750 [==============================] - 54s 73ms/step - loss: 0.8133 - accuracy: 0.7169 - val_loss: 1.1161 - val_accuracy: 0.6218\n"
          ]
        }
      ],
      "source": [
        "\"\"\" Train the model \"\"\"\n",
        "history = model.fit(\n",
        "    x_train_concat,\n",
        "    y_train_concat,\n",
        "    epochs=15,\n",
        "    batch_size=64,\n",
        "    validation_split=0.2,\n",
        "    callbacks=[early_stopping]\n",
        "  )"
      ]
    },
    {
      "cell_type": "code",
      "execution_count": null,
      "metadata": {
        "colab": {
          "base_uri": "https://localhost:8080/"
        },
        "id": "-tRYW9pFew0a",
        "outputId": "4a1ed2d9-57a4-41a0-ed79-cedf22503a60"
      },
      "outputs": [
        {
          "name": "stdout",
          "output_type": "stream",
          "text": [
            "Model: \"sequential\"\n",
            "_________________________________________________________________\n",
            " Layer (type)                Output Shape              Param #   \n",
            "=================================================================\n",
            " vgg16 (Functional)          (None, 1, 1, 512)         14714688  \n",
            "                                                                 \n",
            " flatten (Flatten)           (None, 512)               0         \n",
            "                                                                 \n",
            " dense (Dense)               (None, 256)               131328    \n",
            "                                                                 \n",
            " dense_1 (Dense)             (None, 10)                2570      \n",
            "                                                                 \n",
            "=================================================================\n",
            "Total params: 14848586 (56.64 MB)\n",
            "Trainable params: 133898 (523.04 KB)\n",
            "Non-trainable params: 14714688 (56.13 MB)\n",
            "_________________________________________________________________\n"
          ]
        }
      ],
      "source": [
        "model.summary()"
      ]
    },
    {
      "cell_type": "code",
      "execution_count": null,
      "metadata": {
        "colab": {
          "base_uri": "https://localhost:8080/"
        },
        "id": "dnuP0632b9Q4",
        "outputId": "971d5d26-5f76-494b-ed36-711b4b94219b"
      },
      "outputs": [
        {
          "name": "stdout",
          "output_type": "stream",
          "text": [
            "313/313 [==============================] - 12s 37ms/step - loss: 1.1138 - accuracy: 0.6107\n",
            "Test loss: 1.1138358116149902\n",
            "Test accuracy: 0.6107000112533569\n"
          ]
        }
      ],
      "source": [
        "\"\"\" Evaluate the model on the test set \"\"\"\n",
        "test_loss, test_accuracy = model.evaluate(test_images, test_labels)\n",
        "print(f'Test loss: {test_loss}')\n",
        "print(f'Test accuracy: {test_accuracy}')"
      ]
    },
    {
      "cell_type": "code",
      "execution_count": null,
      "metadata": {
        "id": "lWxpkbehdpCA"
      },
      "outputs": [],
      "source": [
        "\"\"\" Classes Dictionary \"\"\"\n",
        "classes = {\n",
        "    0: 'airplane',\n",
        "    1: 'automobile',\n",
        "    2: 'bird',\n",
        "    3: 'cat',\n",
        "    4: 'deer',\n",
        "    5: 'dog',\n",
        "    6: 'frog',\n",
        "    7: 'horse',\n",
        "    8: 'ship',\n",
        "    9: 'truck'\n",
        "}"
      ]
    },
    {
      "cell_type": "code",
      "execution_count": null,
      "metadata": {
        "colab": {
          "base_uri": "https://localhost:8080/",
          "height": 463
        },
        "id": "pbxRbqs4dpyg",
        "outputId": "17a79343-fab5-4e92-fd46-fba6c825492a"
      },
      "outputs": [
        {
          "name": "stdout",
          "output_type": "stream",
          "text": [
            "(32, 32, 3)\n"
          ]
        },
        {
          "data": {
            "text/plain": [
              "Text(0.5, 1.0, 'class_number: 5 | class_name: dog')"
            ]
          },
          "execution_count": 14,
          "metadata": {},
          "output_type": "execute_result"
        },
        {
          "data": {
            "image/png": "[encoded data removed]",
            "text/plain": [
              "<Figure size 640x480 with 1 Axes>"
            ]
          },
          "metadata": {},
          "output_type": "display_data"
        }
      ],
      "source": [
        "\"\"\" Load a test image for predict \"\"\"\n",
        "import cv2\n",
        "\n",
        "test_img = cv2.imread('dog.jpeg')\n",
        "test_img = cv2.resize(test_img, (32, 32))\n",
        "\n",
        "print(test_img.shape)\n",
        "plt.imshow(test_img, 'Greys')\n",
        "plt.axis('off')\n",
        "plt.title(\"class_number: 5 | class_name: dog\")"
      ]
    },
    {
      "cell_type": "code",
      "execution_count": 1,
      "metadata": {
        "colab": {
          "base_uri": "https://localhost:8080/"
        },
        "id": "Ek80KgxvdrlY",
        "outputId": "6beeac81-e906-4f9c-cfe5-2d018e94f110"
      },
      "outputs": [
        {
          "name": "stdout",
          "output_type": "stream",
          "text": [
            "predicted_class_number: [5]\n",
            "predicted_class_name: [dog]\n"
          ]
        }
      ],
      "source": [
        "\"\"\" Prediction step \"\"\"\n",
        "test_img = test_img.reshape(-1, 32, 32, 3)\n",
        "predicted_class = np.argmax(model.predict(test_img), axis=1)\n",
        "print('predicted_class_number:', predicted_class)\n",
        "print('predicted_class_name:', f'[{classes.get(predicted_class[0])}]')\n"
      ]
    },
    {
      "cell_type": "code",
      "execution_count": 6,
      "metadata": {
        "colab": {
          "base_uri": "https://localhost:8080/",
          "height": 767
        },
        "id": "pG-faCMudsd5",
        "outputId": "3b5040c7-725e-4923-de51-25bb3fb61939"
      },
      "outputs": [
        {
          "name": "stdout",
          "output_type": "stream",
          "text": [
            "\n"
          ]
        },
        {
          "data": {
            "image/png": "[encoded data removed]",
            "text/plain": [
              "<Figure size 640x480 with 1 Axes>"
            ]
          },
          "metadata": {},
          "output_type": "display_data"
        }
      ],
      "source": [
        "plt.plot(history.history['loss'], label='Training loss')\n",
        "plt.plot(history.history['val_loss'], label='Validation loss')\n",
        "plt.title('Loss Function / Epoch')\n",
        "plt.ylabel('Loss')\n",
        "plt.xlabel('Epoch')\n",
        "plt.legend()\n",
        "plt.show()\n",
        "\n",
        "model.summary()"
      ]
    },
    {
      "cell_type": "markdown",
      "metadata": {
        "id": "mYufgvUNeas0"
      },
      "source": [
        "## THNAK YOU --- \\\\(^o^)/"
      ]
    }
  ],
  "metadata": {
    "accelerator": "TPU",
    "colab": {
      "gpuType": "V28",
      "provenance": []
    },
    "kernelspec": {
      "display_name": "Python 3",
      "name": "python3"
    },
    "language_info": {
      "codemirror_mode": {
        "name": "ipython",
        "version": 3
      },
      "file_extension": ".py",
      "mimetype": "text/x-python",
      "name": "python",
      "nbconvert_exporter": "python",
      "pygments_lexer": "ipython3",
      "version": "3.10.12"
    }
  },
  "nbformat": 4,
  "nbformat_minor": 0
}
