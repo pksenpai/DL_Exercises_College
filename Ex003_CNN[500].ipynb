{
  "cells": [
    {
      "cell_type": "markdown",
      "metadata": {},
      "source": [
        "# CNN [500]"
      ]
    },
    {
      "cell_type": "code",
      "execution_count": 1,
      "metadata": {
        "colab": {
          "base_uri": "https://localhost:8080/"
        },
        "id": "9eL7Os2hXC32",
        "outputId": "e782fd2f-fc0e-4252-e383-1d3c2879b8e8"
      },
      "outputs": [
        {
          "name": "stdout",
          "output_type": "stream",
          "text": [
            "Mounted at /content/drive\n"
          ]
        }
      ],
      "source": [
        "from google.colab import drive\n",
        "drive.mount('/content/drive',force_remount=True)"
      ]
    },
    {
      "cell_type": "code",
      "execution_count": 41,
      "metadata": {
        "id": "2jBDen7MWCgv"
      },
      "outputs": [],
      "source": [
        "import tensorflow as tf\n",
        "from tensorflow.keras.datasets import cifar10\n",
        "from tensorflow.keras.models import Sequential\n",
        "from tensorflow.keras.layers import Conv2D, MaxPooling2D, Flatten, Dense, Dropout\n",
        "from tensorflow.keras.callbacks import EarlyStopping\n",
        "from tensorflow.keras.preprocessing.image import ImageDataGenerator\n",
        "\n",
        "import matplotlib.pyplot as plt\n",
        "import numpy as np"
      ]
    },
    {
      "cell_type": "code",
      "execution_count": 3,
      "metadata": {
        "colab": {
          "base_uri": "https://localhost:8080/"
        },
        "id": "GmSvAHtPWDmg",
        "outputId": "32bbcf8c-4a67-4cc7-aa8c-431dd576a409"
      },
      "outputs": [
        {
          "name": "stdout",
          "output_type": "stream",
          "text": [
            "Downloading data from https://www.cs.toronto.edu/~kriz/cifar-10-python.tar.gz\n",
            "170498071/170498071 [==============================] - 3s 0us/step\n"
          ]
        }
      ],
      "source": [
        "\"\"\" Load CIFAR-10 dataset \"\"\"\n",
        "(train_images, train_labels), (test_images, test_labels) = cifar10.load_data()"
      ]
    },
    {
      "cell_type": "code",
      "execution_count": 4,
      "metadata": {
        "id": "_D4IcJVCWLEJ"
      },
      "outputs": [],
      "source": [
        "\"\"\" Normalize pixel values \"\"\"\n",
        "train_images = train_images / 255.0\n",
        "test_images = test_images / 255.0"
      ]
    },
    {
      "cell_type": "code",
      "execution_count": 40,
      "metadata": {
        "colab": {
          "base_uri": "https://localhost:8080/"
        },
        "id": "ppiBRFmdYRAu",
        "outputId": "99211105-f281-43ab-9f84-b7b9ae0f3f54"
      },
      "outputs": [
        {
          "name": "stdout",
          "output_type": "stream",
          "text": [
            "(60000, 32, 32, 3) | (60000, 1)\n"
          ]
        }
      ],
      "source": [
        "\"\"\" Data augmentation \"\"\"\n",
        "datagen = ImageDataGenerator(\n",
        "    rotation_range=15,\n",
        "    width_shift_range=0.1,\n",
        "    height_shift_range=0.1,\n",
        "    horizontal_flip=True\n",
        ")\n",
        "\n",
        "num = 10000\n",
        "\n",
        "augmented_data = []\n",
        "augmented_labels = []\n",
        "\n",
        "for x_batch, y_batch in datagen.flow(train_images, train_labels, batch_size=num):\n",
        "    augmented_data.extend(x_batch)\n",
        "    augmented_labels.extend(y_batch)\n",
        "    if len(augmented_data) >= num:\n",
        "        break\n",
        "\n",
        "x_train_concat = np.concatenate((train_images, augmented_data[:len(train_images)]))\n",
        "y_train_concat = np.concatenate((train_labels, augmented_labels[:len(train_labels)]))\n",
        "\n",
        "shuffle_idx = np.random.permutation(len(x_train_concat))\n",
        "x_train_concat = x_train_concat[shuffle_idx]\n",
        "y_train_concat = y_train_concat[shuffle_idx]\n",
        "\n",
        "print(x_train_concat.shape, '|', y_train_concat.shape)"
      ]
    },
    {
      "cell_type": "code",
      "execution_count": 42,
      "metadata": {
        "id": "Jk5-KpinWNOQ"
      },
      "outputs": [],
      "source": [
        "\"\"\" Construct the CNN model \"\"\"\n",
        "model = Sequential([\n",
        "    Conv2D(32, (3, 3), activation='relu', input_shape=(32, 32, 3)),\n",
        "    MaxPooling2D((2, 2)),\n",
        "    Dropout(0.2),\n",
        "    Conv2D(64, (3, 3), activation='relu'),\n",
        "    MaxPooling2D((2, 2)),\n",
        "    Dropout(0.2),\n",
        "    Conv2D(64, (3, 3), activation='relu'),\n",
        "    Flatten(),\n",
        "    Dense(64, activation='relu'),\n",
        "    Dense(10, activation='softmax')\n",
        "])\n",
        "\n",
        "\"\"\" Compile the model \"\"\"\n",
        "model.compile(optimizer='adam', loss='sparse_categorical_crossentropy', metrics=['accuracy'])\n"
      ]
    },
    {
      "cell_type": "code",
      "execution_count": 43,
      "metadata": {
        "id": "agrl_K07YHzW"
      },
      "outputs": [],
      "source": [
        "\"\"\" Early stopping callback \"\"\"\n",
        "early_stopping = EarlyStopping(monitor='val_loss', patience=5, restore_best_weights=True)"
      ]
    },
    {
      "cell_type": "code",
      "execution_count": 44,
      "metadata": {
        "colab": {
          "base_uri": "https://localhost:8080/"
        },
        "id": "6vuBOV8KWV66",
        "outputId": "701319bb-0267-4053-9fe7-f0bbeff2f5d8"
      },
      "outputs": [
        {
          "name": "stdout",
          "output_type": "stream",
          "text": [
            "Epoch 1/15\n",
            "750/750 [==============================] - 10s 13ms/step - loss: 1.6478 - accuracy: 0.3936 - val_loss: 1.3861 - val_accuracy: 0.5028\n",
            "Epoch 2/15\n",
            "750/750 [==============================] - 9s 12ms/step - loss: 1.3101 - accuracy: 0.5298 - val_loss: 1.2218 - val_accuracy: 0.5655\n",
            "Epoch 3/15\n",
            "750/750 [==============================] - 9s 12ms/step - loss: 1.1552 - accuracy: 0.5900 - val_loss: 1.0541 - val_accuracy: 0.6258\n",
            "Epoch 4/15\n",
            "750/750 [==============================] - 8s 11ms/step - loss: 1.0670 - accuracy: 0.6211 - val_loss: 1.0390 - val_accuracy: 0.6369\n",
            "Epoch 5/15\n",
            "750/750 [==============================] - 9s 11ms/step - loss: 1.0020 - accuracy: 0.6451 - val_loss: 0.9445 - val_accuracy: 0.6702\n",
            "Epoch 6/15\n",
            "750/750 [==============================] - 9s 12ms/step - loss: 0.9430 - accuracy: 0.6699 - val_loss: 0.9545 - val_accuracy: 0.6634\n",
            "Epoch 7/15\n",
            "750/750 [==============================] - 9s 11ms/step - loss: 0.8978 - accuracy: 0.6836 - val_loss: 0.9090 - val_accuracy: 0.6830\n",
            "Epoch 8/15\n",
            "750/750 [==============================] - 9s 12ms/step - loss: 0.8518 - accuracy: 0.7013 - val_loss: 0.8697 - val_accuracy: 0.6948\n",
            "Epoch 9/15\n",
            "750/750 [==============================] - 9s 11ms/step - loss: 0.8268 - accuracy: 0.7083 - val_loss: 0.8677 - val_accuracy: 0.6980\n",
            "Epoch 10/15\n",
            "750/750 [==============================] - 9s 12ms/step - loss: 0.7918 - accuracy: 0.7216 - val_loss: 0.8564 - val_accuracy: 0.7041\n",
            "Epoch 11/15\n",
            "750/750 [==============================] - 8s 11ms/step - loss: 0.7644 - accuracy: 0.7305 - val_loss: 0.8295 - val_accuracy: 0.7092\n",
            "Epoch 12/15\n",
            "750/750 [==============================] - 8s 11ms/step - loss: 0.7442 - accuracy: 0.7386 - val_loss: 0.8210 - val_accuracy: 0.7165\n",
            "Epoch 13/15\n",
            "750/750 [==============================] - 9s 11ms/step - loss: 0.7222 - accuracy: 0.7458 - val_loss: 0.8276 - val_accuracy: 0.7152\n",
            "Epoch 14/15\n",
            "750/750 [==============================] - 9s 12ms/step - loss: 0.7097 - accuracy: 0.7486 - val_loss: 0.7837 - val_accuracy: 0.7290\n",
            "Epoch 15/15\n",
            "750/750 [==============================] - 9s 11ms/step - loss: 0.6825 - accuracy: 0.7613 - val_loss: 0.8342 - val_accuracy: 0.7148\n"
          ]
        }
      ],
      "source": [
        "\"\"\" Train the model \"\"\"\n",
        "history = model.fit(\n",
        "    x_train_concat,\n",
        "    y_train_concat,\n",
        "    epochs=15,\n",
        "    batch_size=64,\n",
        "    validation_split=0.2,\n",
        "    callbacks=[early_stopping]\n",
        "  )"
      ]
    },
    {
      "cell_type": "code",
      "execution_count": 45,
      "metadata": {
        "colab": {
          "base_uri": "https://localhost:8080/"
        },
        "id": "JXSZ7hfoXYtj",
        "outputId": "7dc47213-89c5-4dea-fbdf-771b020d9687"
      },
      "outputs": [
        {
          "name": "stdout",
          "output_type": "stream",
          "text": [
            "Model: \"sequential_1\"\n",
            "_________________________________________________________________\n",
            " Layer (type)                Output Shape              Param #   \n",
            "=================================================================\n",
            " conv2d_3 (Conv2D)           (None, 30, 30, 32)        896       \n",
            "                                                                 \n",
            " max_pooling2d_2 (MaxPoolin  (None, 15, 15, 32)        0         \n",
            " g2D)                                                            \n",
            "                                                                 \n",
            " dropout (Dropout)           (None, 15, 15, 32)        0         \n",
            "                                                                 \n",
            " conv2d_4 (Conv2D)           (None, 13, 13, 64)        18496     \n",
            "                                                                 \n",
            " max_pooling2d_3 (MaxPoolin  (None, 6, 6, 64)          0         \n",
            " g2D)                                                            \n",
            "                                                                 \n",
            " dropout_1 (Dropout)         (None, 6, 6, 64)          0         \n",
            "                                                                 \n",
            " conv2d_5 (Conv2D)           (None, 4, 4, 64)          36928     \n",
            "                                                                 \n",
            " flatten_1 (Flatten)         (None, 1024)              0         \n",
            "                                                                 \n",
            " dense_2 (Dense)             (None, 64)                65600     \n",
            "                                                                 \n",
            " dense_3 (Dense)             (None, 10)                650       \n",
            "                                                                 \n",
            "=================================================================\n",
            "Total params: 122570 (478.79 KB)\n",
            "Trainable params: 122570 (478.79 KB)\n",
            "Non-trainable params: 0 (0.00 Byte)\n",
            "_________________________________________________________________\n"
          ]
        }
      ],
      "source": [
        "model.summary()"
      ]
    },
    {
      "cell_type": "code",
      "execution_count": 46,
      "metadata": {
        "colab": {
          "base_uri": "https://localhost:8080/"
        },
        "id": "oLi0q8u5V5ao",
        "outputId": "4085be72-a6b8-4462-c346-b558161c6035"
      },
      "outputs": [
        {
          "name": "stdout",
          "output_type": "stream",
          "text": [
            "313/313 [==============================] - 1s 3ms/step - loss: 0.8281 - accuracy: 0.7192\n",
            "Test loss: 0.8280916810035706\n",
            "Test accuracy: 0.7192000150680542\n"
          ]
        }
      ],
      "source": [
        "\"\"\" Evaluate the model on the test set \"\"\"\n",
        "test_loss, test_accuracy = model.evaluate(test_images, test_labels)\n",
        "print(f'Test loss: {test_loss}')\n",
        "print(f'Test accuracy: {test_accuracy}')"
      ]
    },
    {
      "cell_type": "code",
      "execution_count": 47,
      "metadata": {
        "id": "vKytduIKXPuU"
      },
      "outputs": [],
      "source": [
        "\"\"\" Classes Dictionary \"\"\"\n",
        "classes = {\n",
        "    0: 'airplane',\n",
        "    1: 'automobile',\n",
        "    2: 'bird',\n",
        "    3: 'cat',\n",
        "    4: 'deer',\n",
        "    5: 'dog',\n",
        "    6: 'frog',\n",
        "    7: 'horse',\n",
        "    8: 'ship',\n",
        "    9: 'truck'\n",
        "}"
      ]
    },
    {
      "cell_type": "code",
      "execution_count": 48,
      "metadata": {
        "colab": {
          "base_uri": "https://localhost:8080/",
          "height": 463
        },
        "id": "uuIo5VaMXhY7",
        "outputId": "baf08b46-edaa-4647-e632-e307151a493c"
      },
      "outputs": [
        {
          "name": "stdout",
          "output_type": "stream",
          "text": [
            "(32, 32, 3)\n"
          ]
        },
        {
          "data": {
            "text/plain": [
              "Text(0.5, 1.0, 'class_number: 5 | class_name: dog')"
            ]
          },
          "execution_count": 48,
          "metadata": {},
          "output_type": "execute_result"
        },
        {
          "data": {
            "image/png": "[encoded data removed]",
            "text/plain": [
              "<Figure size 640x480 with 1 Axes>"
            ]
          },
          "metadata": {},
          "output_type": "display_data"
        }
      ],
      "source": [
        "\"\"\" Load a test image for predict \"\"\"\n",
        "import cv2\n",
        "\n",
        "test_img = cv2.imread('dog.jpeg')\n",
        "test_img = cv2.resize(test_img, (32, 32))\n",
        "\n",
        "print(test_img.shape)\n",
        "plt.imshow(test_img, 'Greys')\n",
        "plt.axis('off')\n",
        "plt.title(\"class_number: 5 | class_name: dog\")"
      ]
    },
    {
      "cell_type": "code",
      "execution_count": 50,
      "metadata": {
        "colab": {
          "base_uri": "https://localhost:8080/"
        },
        "id": "elkXZkELXjPv",
        "outputId": "0d1b1527-9937-4eef-9f34-0cd5b06fdfdc"
      },
      "outputs": [
        {
          "name": "stdout",
          "output_type": "stream",
          "text": [
            "1/1 [==============================] - 0s 76ms/step\n",
            "predicted_class_number: [5]\n",
            "predicted_class_name: [dog]\n"
          ]
        }
      ],
      "source": [
        "\"\"\" Prediction step \"\"\"\n",
        "test_img = test_img.reshape(-1, 32, 32, 3)\n",
        "predicted_class = np.argmax(model.predict(test_img), axis=1)\n",
        "print('predicted_class_number:', predicted_class)\n",
        "print('predicted_class_name:', f'[{classes.get(predicted_class[0])}]')\n"
      ]
    },
    {
      "cell_type": "code",
      "execution_count": 51,
      "metadata": {
        "colab": {
          "base_uri": "https://localhost:8080/",
          "height": 1000
        },
        "id": "Ka2oeFWLXljp",
        "outputId": "54e01a72-4e0b-41e8-e582-eb05f07f7d02"
      },
      "outputs": [
        {
          "data": {
            "image/png": "[encoded data removed]",
            "text/plain": [
              "<Figure size 640x480 with 1 Axes>"
            ]
          },
          "metadata": {},
          "output_type": "display_data"
        },
        {
          "name": "stdout",
          "output_type": "stream",
          "text": [
            "Model: \"sequential_1\"\n",
            "_________________________________________________________________\n",
            " Layer (type)                Output Shape              Param #   \n",
            "=================================================================\n",
            " conv2d_3 (Conv2D)           (None, 30, 30, 32)        896       \n",
            "                                                                 \n",
            " max_pooling2d_2 (MaxPoolin  (None, 15, 15, 32)        0         \n",
            " g2D)                                                            \n",
            "                                                                 \n",
            " dropout (Dropout)           (None, 15, 15, 32)        0         \n",
            "                                                                 \n",
            " conv2d_4 (Conv2D)           (None, 13, 13, 64)        18496     \n",
            "                                                                 \n",
            " max_pooling2d_3 (MaxPoolin  (None, 6, 6, 64)          0         \n",
            " g2D)                                                            \n",
            "                                                                 \n",
            " dropout_1 (Dropout)         (None, 6, 6, 64)          0         \n",
            "                                                                 \n",
            " conv2d_5 (Conv2D)           (None, 4, 4, 64)          36928     \n",
            "                                                                 \n",
            " flatten_1 (Flatten)         (None, 1024)              0         \n",
            "                                                                 \n",
            " dense_2 (Dense)             (None, 64)                65600     \n",
            "                                                                 \n",
            " dense_3 (Dense)             (None, 10)                650       \n",
            "                                                                 \n",
            "=================================================================\n",
            "Total params: 122570 (478.79 KB)\n",
            "Trainable params: 122570 (478.79 KB)\n",
            "Non-trainable params: 0 (0.00 Byte)\n",
            "_________________________________________________________________\n"
          ]
        }
      ],
      "source": [
        "plt.plot(history.history['loss'], label='Training loss')\n",
        "plt.plot(history.history['val_loss'], label='Validation loss')\n",
        "plt.title('Loss Function / Epoch')\n",
        "plt.ylabel('Loss')\n",
        "plt.xlabel('Epoch')\n",
        "plt.legend()\n",
        "plt.show()\n",
        "\n",
        "model.summary()"
      ]
    },
    {
      "cell_type": "markdown",
      "metadata": {},
      "source": [
        "## THNAK YOU --- \\\\(^o^)/"
      ]
    }
  ],
  "metadata": {
    "accelerator": "TPU",
    "colab": {
      "gpuType": "V28",
      "provenance": []
    },
    "kernelspec": {
      "display_name": "Python 3",
      "name": "python3"
    },
    "language_info": {
      "name": "python"
    }
  },
  "nbformat": 4,
  "nbformat_minor": 0
}
